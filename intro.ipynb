{
 "cells": [
  {
   "cell_type": "markdown",
   "metadata": {
    "slideshow": {
     "slide_type": "slide"
    }
   },
   "source": [
    "# signac - PyData Ann Arbor Meetup 2018\n",
    "Ann Arbor, MI, Aug 7th, 2018\n",
    "\n",
    "The signac framework supports researchers in managing project-related data with a well-defined indexable storage layout for data and metadata. This streamlines post-processing and analysis and makes data collectively accessible.\n",
    "\n",
    "Signac is open-source and freely available for Python versions 2.7.x and 3.4+.\n",
    "\n",
    " * Homepage: http://www.signac.io\n",
    " * Documentation: https://signac-docs.readthedocs.io\n",
    "\n",
    "<p>This presentation is hosted at: <span style=\"font-family:'Lucida Console', Monaco, monospace\"><a href=\"https://bit.ly/2vIYtnZ\">https://bit.ly/2vIYtnZ</a></span><img width=\"64\" height=\"64\" src=\"media/logo.png\" align=\"right\"></p>"
   ]
  },
  {
   "cell_type": "markdown",
   "metadata": {
    "slideshow": {
     "slide_type": "slide"
    }
   },
   "source": [
    "## Our Research\n",
    "\n",
    "<style>\n",
    "* {\n",
    "    box-sizing: border-box;\n",
    "}\n",
    "\n",
    "/* Create two equal columns that floats next to each other */\n",
    ".column {\n",
    "    float: left;\n",
    "    vertical-align: middle;\n",
    "    width: 50%;\n",
    "    padding: 10px;\n",
    "    height: 320px; /* Should be removed. Only for demonstration */\n",
    "}\n",
    "\n",
    "/* Clear floats after the columns */\n",
    ".row:after {\n",
    "    content: \"\";\n",
    "    display: table;\n",
    "    clear: both;\n",
    "}\n",
    "</style>\n",
    "\n",
    "<div class=\"row\">\n",
    "    <div class=\"column\"><p><ul><li>Computational materials research on the nano- to microscale on leadership-class supercomputers (XSEDE, INCITE, etc)</li><li>Development of community-driven open-source software (HOOMD-blue, signac, freud, rowan, ...)</li><li>Application of machine-learning techniques for data-driven materials discovery</li></ul></p></div>\n",
    "    <div class=\"column\"><p><a href=\"media/xiyudu_movie.mp4\"><img src=\"media/xiyudu_movie.png\" width=\"640\" height=\"320\"></a>Video provided by courtesy of Chrisy Xiyu Du.</p></div>\n",
    "</div>"
   ]
  },
  {
   "cell_type": "markdown",
   "metadata": {
    "slideshow": {
     "slide_type": "slide"
    }
   },
   "source": [
    "## Simple Example\n",
    "\n",
    "Here is an exemplary problem we typically encounter when managing **parameterized** data spaces on the file system.\n",
    "\n",
    "We run a series of (computational) experiments on a **binary mixture** and need to store related files on the file system.\n",
    "![flasks](media/flasks.png)"
   ]
  },
  {
   "cell_type": "markdown",
   "metadata": {
    "slideshow": {
     "slide_type": "subslide"
    }
   },
   "source": [
    "This might be a good start:\n",
    "```\n",
    "concentration_A_0.25/\n",
    "concentration_A_0.50/\n",
    "concentration_A_0.75/\n",
    "```"
   ]
  },
  {
   "cell_type": "markdown",
   "metadata": {
    "slideshow": {
     "slide_type": "subslide"
    }
   },
   "source": [
    "Or this?\n",
    "```\n",
    "concentration_A/0.25/\n",
    "concentration_A/0.50/\n",
    "concentration_A/0.75/\n",
    "```"
   ]
  },
  {
   "cell_type": "markdown",
   "metadata": {
    "slideshow": {
     "slide_type": "subslide"
    }
   },
   "source": [
    "Maybe a bit shorter?\n",
    "```\n",
    "conc_A/0.25\n",
    "conc_A/0.50\n",
    "conc_A/0.75\n",
    "```"
   ]
  },
  {
   "cell_type": "markdown",
   "metadata": {
    "slideshow": {
     "slide_type": "subslide"
    }
   },
   "source": [
    "Even shorter?\n",
    "```\n",
    "conc_A/.25\n",
    "conc_A/.50\n",
    "conc_A/.75\n",
    "```"
   ]
  },
  {
   "cell_type": "markdown",
   "metadata": {
    "slideshow": {
     "slide_type": "fragment"
    }
   },
   "source": [
    "But now all all of our data is *hidden*..."
   ]
  },
  {
   "cell_type": "markdown",
   "metadata": {
    "slideshow": {
     "slide_type": "subslide"
    }
   },
   "source": [
    "Better remove the *dot*.\n",
    "```\n",
    "conc_A/25\n",
    "conc_A/50\n",
    "conc_A/75\n",
    "```"
   ]
  },
  {
   "cell_type": "markdown",
   "metadata": {
    "slideshow": {
     "slide_type": "subslide"
    }
   },
   "source": [
    "Turns out we need to vary the temperature:\n",
    "```\n",
    "conc_A/25/temp_08\n",
    "conc_A/25/temp_1\n",
    "conc_A/50\n",
    "conc_A/75\n",
    "```"
   ]
  },
  {
   "cell_type": "markdown",
   "metadata": {
    "slideshow": {
     "slide_type": "subslide"
    }
   },
   "source": [
    "Better keep things consistent:\n",
    "```\n",
    "conc_A/25/temp_08\n",
    "conc_A/25/temp_1\n",
    "conc_A/50/temp_08\n",
    "conc_A/75/temp_08\n",
    "```"
   ]
  },
  {
   "cell_type": "markdown",
   "metadata": {
    "slideshow": {
     "slide_type": "subslide"
    }
   },
   "source": [
    "Maybe this is a better schema?\n",
    "```\n",
    "temp_08/conc_A/25\n",
    "temp_08/conc_A/50\n",
    "temp_08/conc_A/75\n",
    "temp_1/conc_A/25\n",
    "```"
   ]
  },
  {
   "cell_type": "markdown",
   "metadata": {
    "slideshow": {
     "slide_type": "subslide"
    }
   },
   "source": [
    "*Actually*, we need to bring in a component *C*:\n",
    "```\n",
    "temp_08/conc_A/25/conc_B/05\n",
    "temp_08/conc_A/50\n",
    "temp_08/conc_A/75\n",
    "temp_1/conc_A/25\n",
    "```"
   ]
  },
  {
   "cell_type": "markdown",
   "metadata": {
    "slideshow": {
     "slide_type": "slide"
    }
   },
   "source": [
    "The **signac** framework is named after the painter **Paul Signac**.\n",
    "\n",
    "![Paul Signac](media/paul_signac_pointillism.png)\n",
    "The technique of creating natural images out of many small painting dots serves as a metaphor for **signac**'s data model."
   ]
  },
  {
   "cell_type": "markdown",
   "metadata": {
    "slideshow": {
     "slide_type": "slide"
    }
   },
   "source": [
    "## Overview\n",
    "\n",
    "![Overview](media/overview-core.png)"
   ]
  },
  {
   "cell_type": "markdown",
   "metadata": {
    "slideshow": {
     "slide_type": "subslide"
    }
   },
   "source": [
    "## Overview\n",
    "\n",
    "![Overview](media/overview-core+flow.png)"
   ]
  },
  {
   "cell_type": "markdown",
   "metadata": {
    "slideshow": {
     "slide_type": "slide"
    }
   },
   "source": [
    "## How to install signac\n",
    "\n",
    "You can install signac either with [conda](https://conda.io/docs/user-guide/install/download.html) through the [conda-forge](https://conda-forge.org/) channel:\n",
    "```bash\n",
    "$ conda install -c conda-forge signac signac-flow\n",
    "```\n",
    "Alternatively you can install it with [pip](https://packaging.python.org/tutorials/installing-packages/#installing-to-the-user-site):\n",
    "```bash\n",
    "$ pip install --user signac signac-flow\n",
    "```"
   ]
  },
  {
   "cell_type": "markdown",
   "metadata": {
    "slideshow": {
     "slide_type": "slide"
    }
   },
   "source": [
    "## Additional Information\n",
    "\n",
    "\n",
    "* For installation instructions, links to the documentation, and news, visit the website: http://www.signac.io\n",
    "* The documentation is hosted at: https://signac-docs.readthedocs.io\n",
    "* You can get in touch with the developers and other users on the gitter channel: [https://gitter.im/signac/Lobby](https://gitter.im/signac/Lobby)"
   ]
  },
  {
   "cell_type": "markdown",
   "metadata": {
    "slideshow": {
     "slide_type": "slide"
    }
   },
   "source": [
    "## Demonstration\n",
    "\n",
    "### [Launch interactive jupyter lab session](https://mybinder.org/v2/gh/csadorf/pydata-ann-arbor-2018/master?urlpath=lab)"
   ]
  },
  {
   "cell_type": "markdown",
   "metadata": {
    "slideshow": {
     "slide_type": "slide"
    }
   },
   "source": [
    "## Thank you very much for your attention!\n",
    "\n",
    "![Acknowledgment](media/acknowledgment.png)"
   ]
  }
 ],
 "metadata": {
  "celltoolbar": "Slideshow",
  "kernelspec": {
   "display_name": "Python 3",
   "language": "python",
   "name": "python3"
  },
  "language_info": {
   "codemirror_mode": {
    "name": "ipython",
    "version": 3
   },
   "file_extension": ".py",
   "mimetype": "text/x-python",
   "name": "python",
   "nbconvert_exporter": "python",
   "pygments_lexer": "ipython3",
   "version": "3.6.5"
  }
 },
 "nbformat": 4,
 "nbformat_minor": 2
}
