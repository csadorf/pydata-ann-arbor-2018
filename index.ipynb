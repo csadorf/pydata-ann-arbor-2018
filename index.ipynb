{
 "cells": [
  {
   "cell_type": "markdown",
   "metadata": {},
   "source": [
    "# signac - PyData Ann Arbor Meetup 2018\n",
    "\n",
    "## About\n",
    "\n",
    "This is a collection of Jupyter notebooks and slide decks used as an introduction and demonstration on how to use [signac](http://www.signac.io) presented at the [PyData Ann Arbor Meetup group](https://www.meetup.com/PyData-Ann-Arbor/) on [August 7th 2018](https://www.meetup.com/PyData-Ann-Arbor/events/249050578/).\n",
    "\n",
    "The **signac** framework is a collection of Python packages, that are designed to automate computational investigations and manage the underlying data spaces. The framework is lightweight and easy to integrate with other tools, such as [pandas](https://pandas.pydata.org/) or [tensorflow](https://www.tensorflow.org/).\n",
    "\n",
    "* Part 1 - Introduction to signac's core functions ([slides](https://csadorf.github.io/pydata-ann-arbor-2018/), [notebook](intro.ipynb))\n",
    "\n",
    "* Part 2 - Demonstration of **signac** and **signac-flow**: A case study on projectile motion ([notebook](projectile/animate-projectile.ipynb))\n",
    "* Part 3 - The Python Ecosystem: Integrating **signac** with other Python tools, including [pandas](https://pandas.pydata.org/), [Sacred](https://github.com/IDSIA/sacred), and [datreant.core](http://datreant.org) ([notebook](integration/Integration.ipynb))"
   ]
  },
  {
   "cell_type": "markdown",
   "metadata": {},
   "source": [
    "## How to install signac\n",
    "\n",
    "You can install signac either with [conda](https://conda.io/docs/user-guide/install/download.html) through the [conda-forge](https://conda-forge.org/) channel:\n",
    "```bash\n",
    "conda install -c conda-forge signac signac-flow\n",
    "```\n",
    "Alternatively you can install it with [pip](https://packaging.python.org/tutorials/installing-packages/#installing-to-the-user-site):\n",
    "```bash\n",
    "pip install --user signac signac-flow\n",
    "```"
   ]
  },
  {
   "cell_type": "markdown",
   "metadata": {},
   "source": [
    "## How to get help\n",
    "\n",
    "For more information visit the [signac website](http://www.signac.io) or the [framework documentation](https://signac-docs.readthedocs.io/en/latest)."
   ]
  }
 ],
 "metadata": {
  "kernelspec": {
   "display_name": "Python 3",
   "language": "python",
   "name": "python3"
  },
  "language_info": {
   "codemirror_mode": {
    "name": "ipython",
    "version": 3
   },
   "file_extension": ".py",
   "mimetype": "text/x-python",
   "name": "python",
   "nbconvert_exporter": "python",
   "pygments_lexer": "ipython3",
   "version": "3.6.5"
  },
  "toc": {
   "nav_menu": {},
   "number_sections": true,
   "sideBar": true,
   "skip_h1_title": false,
   "title_cell": "Table of Contents",
   "title_sidebar": "Contents",
   "toc_cell": false,
   "toc_position": {},
   "toc_section_display": true,
   "toc_window_display": false
  }
 },
 "nbformat": 4,
 "nbformat_minor": 2
}
