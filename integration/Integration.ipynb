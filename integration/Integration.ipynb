{
 "cells": [
  {
   "cell_type": "markdown",
   "metadata": {},
   "source": [
    "# signac - PyData Ann Arbor Meetup 2018"
   ]
  },
  {
   "cell_type": "markdown",
   "metadata": {},
   "source": [
    "## Integration with the Python ecosystem\n",
    "\n",
    "``signac`` is designed to be extremely lightweight, making it easy to work with other tools.\n",
    "Here, we demonstrate how it can be integrated with some other tools, which we also use to provide some comparison of ``signac``'s functionality with these tools."
   ]
  },
  {
   "cell_type": "markdown",
   "metadata": {},
   "source": [
    "### Sacred\n",
    "\n",
    "The [Sacred provenance management tool](https://sacred.readthedocs.io/en/latest/) is a popular Python package for logging experiments and reproducing them later.\n",
    "It provides some functionality that slightly overlaps with **signac**, but both packages can be used in a complementary manner."
   ]
  },
  {
   "cell_type": "code",
   "execution_count": null,
   "metadata": {},
   "outputs": [],
   "source": [
    "# Remove left-over files from previous runs...\n",
    "!rm -rf project.py experiment.py workspace signac.rc"
   ]
  },
  {
   "cell_type": "markdown",
   "metadata": {},
   "source": [
    "Initialize the project iterating over some arbitrary index variable *i*."
   ]
  },
  {
   "cell_type": "code",
   "execution_count": null,
   "metadata": {},
   "outputs": [],
   "source": [
    "import signac\n",
    "\n",
    "project = signac.init_project(\"Sacred\")\n",
    "\n",
    "for i in range(5):\n",
    "    project.open_job({\"foo\": i}).init()"
   ]
  },
  {
   "cell_type": "markdown",
   "metadata": {},
   "source": [
    "Then setup the *sacred* experiment, which is a function of some state point variable."
   ]
  },
  {
   "cell_type": "code",
   "execution_count": null,
   "metadata": {},
   "outputs": [],
   "source": [
    "%%writefile experiment.py\n",
    "from sacred import Experiment\n",
    "\n",
    "ex = Experiment()\n",
    "\n",
    "@ex.command\n",
    "def hello(foo):\n",
    "    print('hello #', foo)\n",
    "\n",
    "@ex.command\n",
    "def goodbye(foo):\n",
    "    print('goodbye #', foo)"
   ]
  },
  {
   "cell_type": "code",
   "execution_count": null,
   "metadata": {},
   "outputs": [],
   "source": [
    "%%writefile project.py\n",
    "from flow import FlowProject\n",
    "from sacred.observers import FileStorageObserver\n",
    "from experiment import ex\n",
    "\n",
    "\n",
    "class SacredProject(FlowProject):\n",
    "    pass\n",
    "\n",
    "    \n",
    "def setup_sacred(job):\n",
    "    ex.add_config(** job.sp)\n",
    "    ex.observers[:] = [FileStorageObserver.create(job.fn('my_runs'))]\n",
    "\n",
    "    \n",
    "@SacredProject.operation\n",
    "@SacredProject.post.true('hello')\n",
    "def hello(job):\n",
    "    setup_sacred(job)\n",
    "    ex.run('hello')\n",
    "    job.doc.hello = True\n",
    "\n",
    "\n",
    "@SacredProject.operation\n",
    "@SacredProject.pre.after(hello)\n",
    "@SacredProject.post.true('goodbye')\n",
    "def goodbye(job):\n",
    "    setup_sacred(job)\n",
    "    ex.run('goodbye')\n",
    "    job.doc.goodbye = True\n",
    "\n",
    "\n",
    "if __name__ == '__main__':\n",
    "    SacredProject().main()"
   ]
  },
  {
   "cell_type": "code",
   "execution_count": null,
   "metadata": {},
   "outputs": [],
   "source": [
    "!python3 project.py run -n 1"
   ]
  },
  {
   "cell_type": "code",
   "execution_count": null,
   "metadata": {},
   "outputs": [],
   "source": [
    "!python3 project.py run"
   ]
  },
  {
   "cell_type": "code",
   "execution_count": null,
   "metadata": {},
   "outputs": [],
   "source": [
    "!python3 project.py status --stack --pretty --full"
   ]
  },
  {
   "cell_type": "markdown",
   "metadata": {},
   "source": [
    "### pandas\n",
    "\n",
    "The data in a signac database can easily be coerced into a format suitable for [pandas](https://pandas.pydata.org/).\n",
    "Here, we showcase a simple ideal gas study, where both the state point metadata and document metadata is exported into a pandas `DataFrame`.\n",
    "\n",
    "An ideal gas can be modeled with the ideal gas equation: $pV = NRT$, where the product of the pressure $p$ and the volume $V$ are linearly proportional to the amount of molecules $N$, the ideal gas constant $R=8.314 \\frac{\\text{J}}{\\text{mol K}}$, and the absolute temperature $T$.\n",
    "\n",
    "We start by initializing the data space."
   ]
  },
  {
   "cell_type": "code",
   "execution_count": null,
   "metadata": {},
   "outputs": [],
   "source": [
    "import pandas as pd\n",
    "import numpy as np\n",
    "import signac\n",
    "\n",
    "project = signac.init_project(\"pandas\", root='pandas-project')\n",
    "\n",
    "for T in 200, 300, 400:\n",
    "    for p in 1, 10, 100:\n",
    "        job = project.open_job(dict(T=T, p=p, N=1))\n",
    "        job.doc.V = job.sp.N * job.sp.T * 8.313 / job.sp.p"
   ]
  },
  {
   "cell_type": "markdown",
   "metadata": {},
   "source": [
    "We then export the *project index* to a pandas DataFrame, while flattening the statepoint dictionary:"
   ]
  },
  {
   "cell_type": "code",
   "execution_count": null,
   "metadata": {},
   "outputs": [],
   "source": [
    "def flatten_statepoint(doc):\n",
    "    for key, value in doc.pop('statepoint').items():\n",
    "        yield 'sp.' + key, value\n",
    "    for key, value in doc.items():\n",
    "        yield key, value\n",
    "        \n",
    "\n",
    "project_index = {doc['_id']: dict(flatten_statepoint(doc)) for doc in project.index()}\n",
    "df = pd.DataFrame(project_index).T.set_index('_id')\n",
    "df"
   ]
  },
  {
   "cell_type": "markdown",
   "metadata": {},
   "source": [
    "We can then apply the standard pandas selection ..."
   ]
  },
  {
   "cell_type": "code",
   "execution_count": null,
   "metadata": {},
   "outputs": [],
   "source": [
    "df[df['sp.p'] == 1]"
   ]
  },
  {
   "cell_type": "markdown",
   "metadata": {},
   "source": [
    "... and aggregation mechanisms."
   ]
  },
  {
   "cell_type": "code",
   "execution_count": null,
   "metadata": {},
   "outputs": [],
   "source": [
    "df[df['sp.p'] == 1].V.max()"
   ]
  },
  {
   "cell_type": "markdown",
   "metadata": {},
   "source": [
    "### Datreant\n",
    "\n",
    "The [``datreant.core``](http://datreant.readthedocs.io/en/latest/) package is one of the closer analogues to the ``signac`` core data managment package.\n",
    "However, it is even less restrictive than ``signac`` in that it does not require any index; it simply offers a way to associate arbitrary directories on the filesystem with metadata.\n",
    "\n",
    "Both packages can be used in conjunction if there is value in maintaining trees within a ``signac`` data space or *vice versa*."
   ]
  },
  {
   "cell_type": "code",
   "execution_count": null,
   "metadata": {},
   "outputs": [],
   "source": [
    "import signac\n",
    "\n",
    "project = signac.init_project(\"Datreant\", root='datreant-project')\n",
    "\n",
    "for i in range(5):\n",
    "    project.open_job({\"i\": i}).init()"
   ]
  },
  {
   "cell_type": "code",
   "execution_count": null,
   "metadata": {},
   "outputs": [],
   "source": [
    "import datreant.core as dtr\n",
    "\n",
    "for job in project:\n",
    "    with job:\n",
    "        dtr.Treant('tree1').categories['foo'] = 1\n",
    "        dtr.Treant('tree2').categories['foo'] = 2"
   ]
  },
  {
   "cell_type": "code",
   "execution_count": null,
   "metadata": {},
   "outputs": [],
   "source": [
    "from glob import glob\n",
    "\n",
    "for job in project:\n",
    "    print(job)\n",
    "    with job:\n",
    "        for tree in glob('tree?'):\n",
    "            print(tree, dtr.Treant(tree).categories)\n",
    "    print()"
   ]
  }
 ],
 "metadata": {
  "kernelspec": {
   "display_name": "Python 3",
   "language": "python",
   "name": "python3"
  },
  "language_info": {
   "codemirror_mode": {
    "name": "ipython",
    "version": 3
   },
   "file_extension": ".py",
   "mimetype": "text/x-python",
   "name": "python",
   "nbconvert_exporter": "python",
   "pygments_lexer": "ipython3",
   "version": "3.6.5"
  },
  "toc": {
   "nav_menu": {},
   "number_sections": true,
   "sideBar": true,
   "skip_h1_title": false,
   "title_cell": "Table of Contents",
   "title_sidebar": "Contents",
   "toc_cell": false,
   "toc_position": {},
   "toc_section_display": true,
   "toc_window_display": false
  }
 },
 "nbformat": 4,
 "nbformat_minor": 2
}
