{
 "cells": [
  {
   "cell_type": "markdown",
   "metadata": {},
   "source": [
    "# signac - PyData Ann Arbor Meetup 2018"
   ]
  },
  {
   "cell_type": "markdown",
   "metadata": {},
   "source": [
    "*The following cell resets all data from previous runs of this notebook.*"
   ]
  },
  {
   "cell_type": "code",
   "execution_count": null,
   "metadata": {},
   "outputs": [],
   "source": [
    "!rm -rf workspace signac.rc project.py *.err.* *.out.* signac_project_document.json view"
   ]
  },
  {
   "cell_type": "markdown",
   "metadata": {},
   "source": [
    "## Introduction\n",
    "\n",
    "This notebook gives an example of how the ``signac`` framework can be used to manage a data space and automate operations on this data space.\n",
    "In this example, let's imagine that we're studying the behavior of a projectile launched at a specific velocity and angle to visualize the distance it will travel before it lands.\n",
    "We use simple Newtonian mechanics to model the motion to determine how long the object travels: \n",
    "\n",
    "$$y(t) = y(0) + v\\sin(\\theta) t - \\frac{1}{2} g t^2$$\n",
    "\n",
    "Setting $y(0)=0$ and solving for $t_{max}$ such that $y(t_{max}) = 0$ yields: $t_\\max= \\frac{2v \\sin(\\theta)}{g}$"
   ]
  },
  {
   "cell_type": "markdown",
   "metadata": {},
   "source": [
    "## Initial experiments\n",
    "\n",
    "We express the simple math from above in two Python functions that calculate the maximum time the projectile travels, $t_\\max$, and the $(x, y)$ coordinates of its trajectory."
   ]
  },
  {
   "cell_type": "code",
   "execution_count": null,
   "metadata": {},
   "outputs": [],
   "source": [
    "import numpy as np\n",
    "\n",
    "def get_t_max(v, theta, g=9.81):\n",
    "    return 2 * v * np.sin(theta) / g\n",
    "\n",
    "def compute_xy(t, v, theta, g=9.81):\n",
    "    return v * np.cos(theta) * t, v * np.sin(theta) * t - (g/2) * t**2"
   ]
  },
  {
   "cell_type": "markdown",
   "metadata": {},
   "source": [
    "# COMMENT\n",
    "\n",
    "Is there a reason that you moved away from the original version in which velocity is originally treated as a constant? Since you still follow that storyline later (introducing \"new projectile launching technologies\") I think it would help to also start with v as some hard-coded constant. FWIW presenting it that way did appear to resonate when I presented it.\n",
    "\n",
    "To be clear, I'm specifically referring to the wording in the below comment cell, as well as the choice to make v a variable instead of hard coding initially to demonstrate how inflexible code can be made more easily parameterizable. At the very least, we could state explicitly here that velocity is a constant at this point."
   ]
  },
  {
   "cell_type": "markdown",
   "metadata": {},
   "source": [
    "Let's observe the effect of choosing different velocities and launch angles:"
   ]
  },
  {
   "cell_type": "code",
   "execution_count": null,
   "metadata": {},
   "outputs": [],
   "source": [
    "v = 2000 # m/s\n",
    "theta = 20 * np.pi / 180\n",
    "\n",
    "t_max = get_t_max(v=v, theta=theta)\n",
    "print(\"Time traveled (theta={:2.1f}): {:.2f} min\".format(theta * 180/np.pi, t_max / 60))"
   ]
  },
  {
   "cell_type": "markdown",
   "metadata": {},
   "source": [
    "We can also execute a slightly more \"*systematic*\" study of the maximum distance traveled over different launch angles:"
   ]
  },
  {
   "cell_type": "code",
   "execution_count": null,
   "metadata": {},
   "outputs": [],
   "source": [
    "for theta in np.arange(0.0, np.pi/2, 0.2):\n",
    "    t_max = get_t_max(2000, theta)\n",
    "    x_max = compute_xy(t_max, 2000, theta)[0]\n",
    "    print(\"Distance traveled (theta={:04.1f}): {:3.2f} km\".format(theta * 180/np.pi, x_max / 1000))"
   ]
  },
  {
   "cell_type": "markdown",
   "metadata": {},
   "source": [
    "There is clearly a maximum here somewhere...\n",
    "\n",
    "It might help to visualize the problem:"
   ]
  },
  {
   "cell_type": "code",
   "execution_count": null,
   "metadata": {},
   "outputs": [],
   "source": [
    "from matplotlib import pyplot as plt\n",
    "from ipywidgets import interact, fixed\n",
    "%matplotlib inline\n",
    "\n",
    "@interact(v=fixed(2000), theta=(0, np.pi/2, 0.1))\n",
    "def plot(v=2000, theta=0.2):\n",
    "    t = np.linspace(0, get_t_max(v, theta), 100)\n",
    "    xy = np.asarray(compute_xy(t, v, theta)) / 1000\n",
    "\n",
    "    fig, ax = plt.subplots(figsize=(12, 9))\n",
    "    ax.set_aspect('equal')\n",
    "    ax.set_title(\"v={} m/s, theta={:.1f}\".format(v, theta * 180 / np.pi))\n",
    "    ax.set_xlabel('x [km]')\n",
    "    ax.set_ylabel('y [km]')\n",
    "    ax.set_xlim(0, 1000)\n",
    "    ax.set_ylim(0, 500)\n",
    "    ax.plot(* xy, ls=':')\n",
    "    plt.show()"
   ]
  },
  {
   "cell_type": "markdown",
   "metadata": {},
   "source": [
    "Essentially the same implementation is in the `render.py` module:"
   ]
  },
  {
   "cell_type": "code",
   "execution_count": null,
   "metadata": {},
   "outputs": [],
   "source": [
    "from render import plot\n",
    "\n",
    "fig, ax = plot(velocity=2000, theta=80 * np.pi / 180)\n",
    "plt.show()"
   ]
  },
  {
   "cell_type": "markdown",
   "metadata": {},
   "source": [
    "We can also create a movie that might help us to understand the problem even better:"
   ]
  },
  {
   "cell_type": "code",
   "execution_count": null,
   "metadata": {},
   "outputs": [],
   "source": [
    "from IPython.display import HTML\n",
    "from render import animate\n",
    "\n",
    "anim = animate(velocity=2000, theta=45 * np.pi / 180)\n",
    "HTML(anim.to_html5_video())"
   ]
  },
  {
   "cell_type": "markdown",
   "metadata": {
    "hideCode": false
   },
   "source": [
    "## Initialize a data space\n",
    "\n",
    "So far so good, but now, let's see how we can manage this data with ``signac``. "
   ]
  },
  {
   "cell_type": "code",
   "execution_count": null,
   "metadata": {},
   "outputs": [],
   "source": [
    "import signac\n",
    "\n",
    "# Start by initializing a project\n",
    "project = signac.init_project(\"Projectile-Project\")\n",
    "\n",
    "# Obtain a 'job' handle for a specific *state point*:\n",
    "job = project.open_job({\"theta\": 0.4})"
   ]
  },
  {
   "cell_type": "code",
   "execution_count": null,
   "metadata": {},
   "outputs": [],
   "source": [
    "# JSON-encodable data can be stored in the *job document*, which works like a persistent dict:\n",
    "job.doc['t_max'] = get_t_max(v=2000, theta=job.sp['theta'])\n",
    "\n",
    "# Just like the state point, the document data can also be accessed via *attributes*:\n",
    "job.doc.x_max = compute_xy(t=job.doc.t_max, v=2000, theta=job.sp.theta)[0]"
   ]
  },
  {
   "cell_type": "code",
   "execution_count": null,
   "metadata": {},
   "outputs": [],
   "source": [
    "print(job.sp)\n",
    "print(job.doc)"
   ]
  },
  {
   "cell_type": "markdown",
   "metadata": {},
   "source": [
    "A *job* essentially represents a directory within our *workspace* on the file system."
   ]
  },
  {
   "cell_type": "code",
   "execution_count": null,
   "metadata": {},
   "outputs": [],
   "source": [
    "print(job.get_id())\n",
    "print(job.workspace())"
   ]
  },
  {
   "cell_type": "markdown",
   "metadata": {},
   "source": [
    "We can use that to manage files directory on the file system:"
   ]
  },
  {
   "cell_type": "code",
   "execution_count": null,
   "metadata": {},
   "outputs": [],
   "source": [
    "fig, ax = plot(velocity=2000, theta=80 * np.pi / 180)\n",
    "\n",
    "fig.savefig(job.fn('trajectory.png'))"
   ]
  },
  {
   "cell_type": "markdown",
   "metadata": {},
   "source": [
    "The `job.fn('trajectory.png')` command is a short-cut for `os.path.join(job.workspace(), 'trajectory.png')`.\n",
    "\n",
    "Alternatively, we can use the `job` instance as a *context manager* to temporarily switch into the job's workspace directory."
   ]
  },
  {
   "cell_type": "code",
   "execution_count": null,
   "metadata": {},
   "outputs": [],
   "source": [
    "import os\n",
    "\n",
    "with job:\n",
    "    print(os.getcwd())"
   ]
  },
  {
   "cell_type": "markdown",
   "metadata": {},
   "source": [
    "We have now created the following directory structure on the file system:"
   ]
  },
  {
   "cell_type": "code",
   "execution_count": null,
   "metadata": {},
   "outputs": [],
   "source": [
    "! find . -not -path '*/[\\._]*'"
   ]
  },
  {
   "cell_type": "code",
   "execution_count": null,
   "metadata": {},
   "outputs": [],
   "source": [
    "print(job)\n",
    "print(job.sp)"
   ]
  },
  {
   "cell_type": "markdown",
   "metadata": {},
   "source": [
    "## Expand data space\n",
    "\n",
    "We've shown how this works for one data point.\n",
    "\n",
    "However, **signac** is designed to interact with large data spaces with lots of data points.\n",
    "This is useful, for example to conduct a parameter study of various launch angles:"
   ]
  },
  {
   "cell_type": "code",
   "execution_count": null,
   "metadata": {},
   "outputs": [],
   "source": [
    "for theta in 0.4, 0.625, 0.85, 1.3:\n",
    "    job = project.open_job({\"theta\": theta})\n",
    "    job.doc['t_max'] = get_t_max(v=2000, theta=job.sp['theta'])\n",
    "    job.doc.x_max = compute_xy(t=job.doc.t_max, v=2000, theta=job.sp.theta)[0]"
   ]
  },
  {
   "cell_type": "markdown",
   "metadata": {},
   "source": [
    "## Accessing this data\n",
    "\n",
    "The data is stored persistently on the file system and can be accessed later, for example, by iterating over the entire project."
   ]
  },
  {
   "cell_type": "code",
   "execution_count": null,
   "metadata": {},
   "outputs": [],
   "source": [
    "x_max = 0\n",
    "theta_max = None\n",
    "\n",
    "for job in project:\n",
    "    if job.doc.x_max > x_max:\n",
    "        x_max = job.doc.x_max\n",
    "        theta_max = job.sp.theta\n",
    "\n",
    "print(\"The furthest distance traveled was {:3.2f} km with \\u03b8={:04.1f}\\u00b0.\".format(\n",
    "    x_max/1000, theta_max*180/np.pi))"
   ]
  },
  {
   "cell_type": "markdown",
   "metadata": {},
   "source": [
    "## Changing the schema\n",
    "\n",
    "Now imagine that we suddenly discover new projectile launching technologies that allow us to launch the object much faster.\n",
    "This means that we now have to account for a range of velocities in our data schema.\n",
    "\n",
    "This is the current *implicit* state point schema:"
   ]
  },
  {
   "cell_type": "code",
   "execution_count": null,
   "metadata": {},
   "outputs": [],
   "source": [
    "print(project.detect_schema())"
   ]
  },
  {
   "cell_type": "markdown",
   "metadata": {},
   "source": [
    "We can migrate the schema by manipulating the `job.sp`/`job.statepoint` dictionary directly.\n",
    "First, we move the velocity explicitly into the schema:"
   ]
  },
  {
   "cell_type": "code",
   "execution_count": null,
   "metadata": {},
   "outputs": [],
   "source": [
    "for job in project:\n",
    "    job.sp.setdefault('velocity', 2000)"
   ]
  },
  {
   "cell_type": "markdown",
   "metadata": {},
   "source": [
    "Let's add the two additional speeds:"
   ]
  },
  {
   "cell_type": "code",
   "execution_count": null,
   "metadata": {},
   "outputs": [],
   "source": [
    "velocities = [2000, 2500, 3000]\n",
    "thetas = {job.sp.theta for job in project}\n",
    "\n",
    "for velocity in velocities:\n",
    "    for theta in thetas:\n",
    "        job = project.open_job({'theta': theta, 'velocity': velocity})\n",
    "        job.init()  # This function is idempotent and won't affect pre-existing jobs!"
   ]
  },
  {
   "cell_type": "code",
   "execution_count": null,
   "metadata": {},
   "outputs": [],
   "source": [
    "print(project.detect_schema())"
   ]
  },
  {
   "cell_type": "markdown",
   "metadata": {},
   "source": [
    "## Encoding the workflow\n",
    "\n",
    "Since we're now working with a larger data space, it is a good idea to automate our workflow.\n",
    "For this we define a `FlowProject` and functions that *operate* on the data space as part of a workflow.\n",
    "We define `MyProject` as a class that inherits its behavior directly from the `FlowProject`."
   ]
  },
  {
   "cell_type": "code",
   "execution_count": null,
   "metadata": {},
   "outputs": [],
   "source": [
    "%%writefile project.py\n",
    "from flow import FlowProject\n",
    "import numpy as np\n",
    "\n",
    "\n",
    "# Functions that \"do the math\":\n",
    "\n",
    "def get_t_max(v, theta, g=9.81):\n",
    "    return 2 * v * np.sin(theta) / g\n",
    "\n",
    "\n",
    "def compute_xy(t, v, theta, g=9.81):\n",
    "    return v * np.cos(theta) * t, v * np.sin(theta) * t - (g/2) * t**2\n",
    "\n",
    "\n",
    "# The workflow is encoded as part of a `FlowProject`:\n",
    "\n",
    "class MyProject(FlowProject):\n",
    "    pass\n",
    "\n",
    "\n",
    "@MyProject.label\n",
    "def trajectory_computed(job):\n",
    "    return job.isfile('trajectory.npz')\n",
    "\n",
    "\n",
    "@MyProject.operation\n",
    "@MyProject.post(trajectory_computed)\n",
    "def compute_trajectory(job):\n",
    "    from time import sleep; sleep(1)  # add some artificial computational cost here\n",
    "    t = np.linspace(0, get_t_max(job.sp.velocity, job.sp.theta), 100)\n",
    "    xy = np.asarray(compute_xy(t, job.sp.velocity, job.sp.theta)).T\n",
    "    np.savez(job.fn('trajectory.npz'), t=t, xy=xy)\n",
    "    \n",
    "    job.doc.t_max = t.max()\n",
    "    job.doc.x_max = xy[0].max()\n",
    "\n",
    "\n",
    "if __name__ == '__main__':\n",
    "    MyProject().main()"
   ]
  },
  {
   "cell_type": "code",
   "execution_count": null,
   "metadata": {},
   "outputs": [],
   "source": [
    "!python3 project.py status -d --pretty"
   ]
  },
  {
   "cell_type": "code",
   "execution_count": null,
   "metadata": {},
   "outputs": [],
   "source": [
    "!python3 project.py run -f velocity 2000 --progress"
   ]
  },
  {
   "cell_type": "code",
   "execution_count": null,
   "metadata": {},
   "outputs": [],
   "source": [
    "!python3 project.py status -d --pretty --parameters velocity theta"
   ]
  },
  {
   "cell_type": "markdown",
   "metadata": {},
   "source": [
    "Now, we will add some new operations to `MyProject`: `plot_trajectory` and `animate`."
   ]
  },
  {
   "cell_type": "code",
   "execution_count": null,
   "metadata": {},
   "outputs": [],
   "source": [
    "%%writefile project.py\n",
    "from flow import FlowProject\n",
    "import numpy as np\n",
    "\n",
    "\n",
    "def get_t_max(v, theta, g=9.81):\n",
    "    return 2 * v * np.sin(theta) / g\n",
    "\n",
    "\n",
    "def compute_xy(t, v, theta, g=9.81):\n",
    "    return v * np.cos(theta) * t, v * np.sin(theta) * t - (g/2) * t**2\n",
    "\n",
    "\n",
    "from flow import FlowProject\n",
    "\n",
    "class MyProject(FlowProject):\n",
    "    pass\n",
    "\n",
    "\n",
    "@MyProject.label\n",
    "def trajectory_computed(job):\n",
    "    return job.isfile('trajectory.npz')\n",
    "\n",
    "\n",
    "@MyProject.operation\n",
    "@MyProject.post(trajectory_computed)\n",
    "def compute_trajectory(job):\n",
    "    from time import sleep; sleep(1)  # add some artificial computational cost here\n",
    "    t = np.linspace(0, get_t_max(job.sp.velocity, job.sp.theta), 100)\n",
    "    xy = np.asarray(compute_xy(t, job.sp.velocity, job.sp.theta)).T\n",
    "    np.savez(job.fn('trajectory.npz'), t=t, xy=xy)\n",
    "    \n",
    "    job.doc.t_max = t.max()\n",
    "    job.doc.x_max = xy[0].max()\n",
    "\n",
    "\n",
    "@MyProject.operation\n",
    "@MyProject.pre.after(compute_trajectory)\n",
    "@MyProject.post.isfile('trajectory.png')\n",
    "def plot_trajectory(job):\n",
    "    from render import plot\n",
    "    fig, ax = plot(velocity=job.sp.velocity, theta=job.sp.theta)\n",
    "    fig.savefig(job.fn('trajectory.png'))\n",
    "\n",
    "\n",
    "@MyProject.operation\n",
    "@MyProject.pre.after(compute_trajectory)\n",
    "@MyProject.post.isfile('trajectory.mp4')\n",
    "def animate(job):\n",
    "    from render import animate\n",
    "    anim = animate(** job.sp)\n",
    "    with job:\n",
    "        anim.save('trajectory.mp4')\n",
    "\n",
    "\n",
    "if __name__ == '__main__':\n",
    "    MyProject().main()"
   ]
  },
  {
   "cell_type": "code",
   "execution_count": null,
   "metadata": {},
   "outputs": [],
   "source": [
    "!python3 project.py status --full --pretty --parameters velocity theta --stack"
   ]
  },
  {
   "cell_type": "code",
   "execution_count": null,
   "metadata": {},
   "outputs": [],
   "source": [
    "!python3 project.py run -o compute_trajectory --progress"
   ]
  },
  {
   "cell_type": "code",
   "execution_count": null,
   "metadata": {},
   "outputs": [],
   "source": [
    "!python3 project.py run --progress --parallel=4"
   ]
  },
  {
   "cell_type": "code",
   "execution_count": null,
   "metadata": {},
   "outputs": [],
   "source": [
    "!python3 project.py status -d --only-incomplete"
   ]
  },
  {
   "cell_type": "markdown",
   "metadata": {},
   "source": [
    "## Extract outputs\n",
    "\n",
    "Now that all this data has been generated it is very easy to access it in the context of ``signac`` and pull the relevant files. "
   ]
  },
  {
   "cell_type": "code",
   "execution_count": null,
   "metadata": {},
   "outputs": [],
   "source": [
    "html_str= '<table>'\n",
    "\n",
    "for v, group in project.groupby('velocity'):\n",
    "    html_str += '<tr>'\n",
    "    for job in sorted(group, key=lambda job: job.sp.theta):\n",
    "        html_str += '<td><video width=\"200\" autoplay loop><source src=\"{}\" type=\"video/mp4\"></video></td>'.format(\n",
    "            os.path.relpath(job.fn('trajectory.mp4')))\n",
    "    html_str += '</tr>'\n",
    "html_str += '</table>'\n",
    "\n",
    "HTML(html_str)"
   ]
  },
  {
   "cell_type": "markdown",
   "metadata": {},
   "source": [
    "## Viewing the data\n",
    "\n",
    "Now, this form of data storage may be cleaner in some ways, but the resulting data space is highly obfuscated and therefore very difficult to manually inspect.\n",
    "If you wanted to look through the filesystem to see things, you would have to look through each JSON file for the relevant metadata, which is effectively infeasible for large data spaces.\n",
    "To overcome this, we have views."
   ]
  },
  {
   "cell_type": "code",
   "execution_count": null,
   "metadata": {},
   "outputs": [],
   "source": [
    "project = signac.get_project()\n",
    "project.create_linked_view()"
   ]
  },
  {
   "cell_type": "markdown",
   "metadata": {},
   "source": [
    "**Views are dynamic links, so they are immediately updated when the data space changes.\n",
    "As a result, they can also be easily customized by simply changing the order in which directory structures are constructed when views are created without affecting the data.**"
   ]
  },
  {
   "cell_type": "code",
   "execution_count": null,
   "metadata": {},
   "outputs": [],
   "source": [
    "!find view | head -n 20"
   ]
  },
  {
   "cell_type": "code",
   "execution_count": null,
   "metadata": {},
   "outputs": [],
   "source": [
    "!find -L view | head -10"
   ]
  },
  {
   "cell_type": "markdown",
   "metadata": {},
   "source": [
    "## Extra"
   ]
  },
  {
   "cell_type": "markdown",
   "metadata": {},
   "source": [
    "### Submission to scheduler\n",
    "\n",
    "It is now trivial to submit these jobs to a cluster instead of running them locally.\n",
    "All we need to do is change our `run` command to a `submit` command, and the operation will run on any detected scheduler.\n",
    "\n",
    "**Signac-flow** will automatically interface with **SLURM** and **TORQUE** schedulers and provides special support for some high-performance computing environments, such as XSEDE Stampede, XSEDE Comet, INCITE Titan, and others.\n",
    "\n",
    "The last part of this demonstration requires a scheduler available on the system. If none of the above mentioned schedulers is available, we can launch the `simple-scheduler`, which is installed with **signac-flow** and exclusively designed for *testing purposes*.\n",
    "\n",
    "To launch the simple-scheduler, execute `$ simple-scheduler run` in a terminal."
   ]
  },
  {
   "cell_type": "code",
   "execution_count": null,
   "metadata": {},
   "outputs": [],
   "source": [
    "import os\n",
    "\n",
    "# We set this environment variable so that flow automatically detects the scheduler.\n",
    "os.environ['SIMPLE_SCHEDULER'] = os.path.expandvars(\"simple-scheduler --data=${HOME}/.local/share/simple-scheduler\")"
   ]
  },
  {
   "cell_type": "markdown",
   "metadata": {},
   "source": [
    "Let's remove some videos to generate some work for our scheduling system:"
   ]
  },
  {
   "cell_type": "code",
   "execution_count": null,
   "metadata": {},
   "outputs": [],
   "source": [
    "!find . -name trajectory.mp4 | head -4 | xargs rm"
   ]
  },
  {
   "cell_type": "code",
   "execution_count": null,
   "metadata": {},
   "outputs": [],
   "source": [
    "!python3 project.py status -d --pretty --parameters velocity theta --stack --all-operations"
   ]
  },
  {
   "cell_type": "code",
   "execution_count": null,
   "metadata": {},
   "outputs": [],
   "source": [
    "!python3 project.py submit"
   ]
  }
 ],
 "metadata": {
  "kernelspec": {
   "display_name": "Python 3",
   "language": "python",
   "name": "python3"
  },
  "language_info": {
   "codemirror_mode": {
    "name": "ipython",
    "version": 3
   },
   "file_extension": ".py",
   "mimetype": "text/x-python",
   "name": "python",
   "nbconvert_exporter": "python",
   "pygments_lexer": "ipython3",
   "version": "3.6.6"
  },
  "toc": {
   "nav_menu": {},
   "number_sections": true,
   "sideBar": true,
   "skip_h1_title": false,
   "title_cell": "Table of Contents",
   "title_sidebar": "Contents",
   "toc_cell": false,
   "toc_position": {},
   "toc_section_display": true,
   "toc_window_display": false
  }
 },
 "nbformat": 4,
 "nbformat_minor": 2
}
